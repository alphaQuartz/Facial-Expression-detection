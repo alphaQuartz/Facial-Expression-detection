{
 "cells": [
  {
   "cell_type": "code",
   "execution_count": 1,
   "metadata": {},
   "outputs": [
    {
     "name": "stderr",
     "output_type": "stream",
     "text": [
      "C:\\Users\\ME\\Anaconda3\\lib\\site-packages\\h5py\\__init__.py:36: FutureWarning: Conversion of the second argument of issubdtype from `float` to `np.floating` is deprecated. In future, it will be treated as `np.float64 == np.dtype(float).type`.\n",
      "  from ._conv import register_converters as _register_converters\n"
     ]
    }
   ],
   "source": [
    "import tensorflow as tf\n",
    "import tensorflow.keras as keras\n",
    "import numpy as np\n",
    "import pandas as pd\n",
    "from tensorflow.keras.preprocessing.image import ImageDataGenerator\n",
    "import matplotlib.pyplot as plt\n",
    "%matplotlib inline"
   ]
  },
  {
   "cell_type": "code",
   "execution_count": 2,
   "metadata": {},
   "outputs": [],
   "source": [
    "df=pd.read_csv(\"./CSVFiles/legend.csv\")\n",
    "\n",
    "df['emotion']=df['emotion'].apply(str.lower)\n",
    "\n",
    "df=df.drop(['user.id'],axis=1)\n",
    "df=df.drop_duplicates(subset=['image'])"
   ]
  },
  {
   "cell_type": "code",
   "execution_count": 3,
   "metadata": {},
   "outputs": [
    {
     "data": {
      "text/html": [
       "<div>\n",
       "<style scoped>\n",
       "    .dataframe tbody tr th:only-of-type {\n",
       "        vertical-align: middle;\n",
       "    }\n",
       "\n",
       "    .dataframe tbody tr th {\n",
       "        vertical-align: top;\n",
       "    }\n",
       "\n",
       "    .dataframe thead th {\n",
       "        text-align: right;\n",
       "    }\n",
       "</style>\n",
       "<table border=\"1\" class=\"dataframe\">\n",
       "  <thead>\n",
       "    <tr style=\"text-align: right;\">\n",
       "      <th></th>\n",
       "      <th>image</th>\n",
       "      <th>emotion</th>\n",
       "    </tr>\n",
       "  </thead>\n",
       "  <tbody>\n",
       "    <tr>\n",
       "      <th>0</th>\n",
       "      <td>facial-expressions_2868585k.jpg</td>\n",
       "      <td>surprise</td>\n",
       "    </tr>\n",
       "    <tr>\n",
       "      <th>1</th>\n",
       "      <td>facial-expressions_2868584k.jpg</td>\n",
       "      <td>disgust</td>\n",
       "    </tr>\n",
       "    <tr>\n",
       "      <th>2</th>\n",
       "      <td>facial-expressions_2868582k.jpg</td>\n",
       "      <td>fear</td>\n",
       "    </tr>\n",
       "    <tr>\n",
       "      <th>3</th>\n",
       "      <td>Aaron_Eckhart_0001.jpg</td>\n",
       "      <td>neutral</td>\n",
       "    </tr>\n",
       "    <tr>\n",
       "      <th>4</th>\n",
       "      <td>Aaron_Guiel_0001.jpg</td>\n",
       "      <td>happiness</td>\n",
       "    </tr>\n",
       "  </tbody>\n",
       "</table>\n",
       "</div>"
      ],
      "text/plain": [
       "                             image    emotion\n",
       "0  facial-expressions_2868585k.jpg   surprise\n",
       "1  facial-expressions_2868584k.jpg    disgust\n",
       "2  facial-expressions_2868582k.jpg       fear\n",
       "3           Aaron_Eckhart_0001.jpg    neutral\n",
       "4             Aaron_Guiel_0001.jpg  happiness"
      ]
     },
     "execution_count": 3,
     "metadata": {},
     "output_type": "execute_result"
    }
   ],
   "source": [
    "df.head()"
   ]
  },
  {
   "cell_type": "code",
   "execution_count": 4,
   "metadata": {},
   "outputs": [],
   "source": [
    "augument=ImageDataGenerator(rotation_range=15,\n",
    "                            width_shift_range=0.1,\n",
    "                            height_shift_range=0.1,\n",
    "                            shear_range=0.01,\n",
    "                            zoom_range=[0.9, 1.25],\n",
    "                            horizontal_flip=True,\n",
    "                            vertical_flip=False,\n",
    "                            fill_mode='nearest',\n",
    "                            data_format='channels_last',\n",
    "                            rescale=1/255,\n",
    "                            brightness_range=[0.5, 1.5],\n",
    "                            validation_split=0.1\n",
    "                           )"
   ]
  },
  {
   "cell_type": "code",
   "execution_count": 5,
   "metadata": {},
   "outputs": [
    {
     "name": "stdout",
     "output_type": "stream",
     "text": [
      "Found 12312 images belonging to 8 classes.\n"
     ]
    }
   ],
   "source": [
    "train_gen=augument.flow_from_dataframe(dataframe=df,\n",
    "                             directory='./images',\n",
    "                             x_col='image',\n",
    "                             y_col='emotion',\n",
    "                             target_size=(128,128),\n",
    "                             color_mode='grayscale',\n",
    "                             batch_size=64,\n",
    "                             shuffle=True,\n",
    "                             subset='training'\n",
    "                            )"
   ]
  },
  {
   "cell_type": "code",
   "execution_count": 6,
   "metadata": {},
   "outputs": [
    {
     "name": "stdout",
     "output_type": "stream",
     "text": [
      "Found 1369 images belonging to 8 classes.\n"
     ]
    }
   ],
   "source": [
    "test_gen=augument.flow_from_dataframe(dataframe=df,\n",
    "                             directory='./images',\n",
    "                             x_col='image',\n",
    "                             y_col='emotion',\n",
    "                             target_size=(128,128),\n",
    "                             color_mode='grayscale',\n",
    "                             batch_size=64,\n",
    "                             shuffle=False,\n",
    "                             subset='validation')"
   ]
  },
  {
   "cell_type": "code",
   "execution_count": 7,
   "metadata": {},
   "outputs": [
    {
     "data": {
      "text/plain": [
       "{'surprise': 0,\n",
       " 'disgust': 1,\n",
       " 'fear': 2,\n",
       " 'neutral': 3,\n",
       " 'happiness': 4,\n",
       " 'sadness': 5,\n",
       " 'anger': 6,\n",
       " 'contempt': 7}"
      ]
     },
     "execution_count": 7,
     "metadata": {},
     "output_type": "execute_result"
    }
   ],
   "source": [
    "train_gen.class_indices"
   ]
  },
  {
   "cell_type": "code",
   "execution_count": 8,
   "metadata": {},
   "outputs": [
    {
     "data": {
      "text/plain": [
       "{'surprise': 0,\n",
       " 'disgust': 1,\n",
       " 'fear': 2,\n",
       " 'neutral': 3,\n",
       " 'happiness': 4,\n",
       " 'sadness': 5,\n",
       " 'anger': 6,\n",
       " 'contempt': 7}"
      ]
     },
     "execution_count": 8,
     "metadata": {},
     "output_type": "execute_result"
    }
   ],
   "source": [
    "test_gen.class_indices"
   ]
  },
  {
   "cell_type": "code",
   "execution_count": 9,
   "metadata": {},
   "outputs": [],
   "source": [
    "#acc values\n",
    "acc=[]"
   ]
  },
  {
   "cell_type": "code",
   "execution_count": 10,
   "metadata": {},
   "outputs": [],
   "source": [
    "#optimizer\n",
    "adam=keras.optimizers.Adam(lr=0.001)"
   ]
  },
  {
   "cell_type": "code",
   "execution_count": 9,
   "metadata": {},
   "outputs": [],
   "source": [
    "model=keras.Sequential()\n",
    "model.add(keras.layers.Conv2D(32,kernel_size=(3,3),padding='same',activation='relu',input_shape=(128,128,1)))\n",
    "model.add(tf.layers.BatchNormalization())\n",
    "model.add(keras.layers.MaxPooling2D(padding='same'))\n",
    "\n",
    "model.add(keras.layers.Conv2D(64,kernel_size=(3,3),padding='same',activation='relu'))\n",
    "model.add(tf.layers.BatchNormalization())\n",
    "model.add(keras.layers.MaxPooling2D(padding='same'))\n",
    "\n",
    "model.add(keras.layers.Conv2D(128,kernel_size=(3,3),padding='same',activation='relu'))\n",
    "model.add(tf.layers.BatchNormalization())\n",
    "model.add(keras.layers.MaxPooling2D(padding='same'))\n",
    "\n",
    "model.add(keras.layers.Conv2D(256,kernel_size=(3,3),padding='same',activation='relu'))\n",
    "model.add(tf.layers.BatchNormalization())\n",
    "model.add(keras.layers.MaxPooling2D(padding='same'))\n",
    "\n",
    "model.add(keras.layers.Conv2D(512,kernel_size=(3,3),padding='same',activation='relu'))\n",
    "model.add(tf.layers.BatchNormalization())\n",
    "model.add(keras.layers.MaxPooling2D(padding='same'))\n",
    "\n",
    "model.add(keras.layers.Conv2D(1024,kernel_size=(3,3),padding='same',activation='relu'))\n",
    "model.add(tf.layers.BatchNormalization())\n",
    "model.add(keras.layers.MaxPooling2D(padding='same'))\n",
    "\n",
    "model.add(keras.layers.GlobalAvgPool2D())\n",
    "model.add(tf.layers.BatchNormalization())\n",
    "model.add(keras.layers.Dropout(0.3))\n",
    "\n",
    "model.add(keras.layers.Dense(units=512,activation='relu'))\n",
    "model.add(tf.layers.BatchNormalization())\n",
    "#model.add(keras.layers.Dropout(0.5))\n",
    "\n",
    "model.add(keras.layers.Dense(units=8,activation='softmax'))\n",
    "\n",
    "model.compile(loss='categorical_crossentropy',optimizer=adam,metrics=['accuracy'])\n",
    "#model.summary()"
   ]
  },
  {
   "cell_type": "code",
   "execution_count": 13,
   "metadata": {},
   "outputs": [],
   "source": [
    "ckpoint=keras.callbacks.ModelCheckpoint(filepath='./model/facial_model_overfit.hdf5',\n",
    "                                        monitor='acc',\n",
    "                                        verbose=0,\n",
    "                                        save_best_only=True,\n",
    "                                        save_weights_only=False,\n",
    "                                        mode='max',\n",
    "                                        period=1)"
   ]
  },
  {
   "cell_type": "code",
   "execution_count": 12,
   "metadata": {},
   "outputs": [
    {
     "name": "stdout",
     "output_type": "stream",
     "text": [
      "Epoch 1/100\n",
      "193/193 [==============================] - 37s 194ms/step - loss: 0.7452 - acc: 0.76720s - loss: 0.7475 - acc: 0.7\n",
      "Epoch 2/100\n",
      "193/193 [==============================] - 35s 180ms/step - loss: 0.4765 - acc: 0.8404\n",
      "Epoch 3/100\n",
      "193/193 [==============================] - 35s 180ms/step - loss: 0.4190 - acc: 0.8549\n",
      "Epoch 4/100\n",
      "193/193 [==============================] - 35s 180ms/step - loss: 0.3916 - acc: 0.8630\n",
      "Epoch 5/100\n",
      "193/193 [==============================] - 35s 180ms/step - loss: 0.3601 - acc: 0.87324s - loss: 0.3577 - acc: 0.87 - ETA: 4s - lo\n",
      "Epoch 6/100\n",
      "193/193 [==============================] - 35s 180ms/step - loss: 0.3368 - acc: 0.8755\n",
      "Epoch 7/100\n",
      "193/193 [==============================] - 35s 180ms/step - loss: 0.3389 - acc: 0.8800\n",
      "Epoch 8/100\n",
      "193/193 [==============================] - 35s 180ms/step - loss: 0.3185 - acc: 0.8820\n",
      "Epoch 9/100\n",
      "193/193 [==============================] - 35s 180ms/step - loss: 0.3011 - acc: 0.8892\n",
      "Epoch 10/100\n",
      "193/193 [==============================] - 35s 180ms/step - loss: 0.2972 - acc: 0.8889\n",
      "Epoch 11/100\n",
      "193/193 [==============================] - 35s 180ms/step - loss: 0.2896 - acc: 0.8910\n",
      "Epoch 12/100\n",
      "193/193 [==============================] - 35s 180ms/step - loss: 0.2742 - acc: 0.9000\n",
      "Epoch 13/100\n",
      "193/193 [==============================] - 35s 180ms/step - loss: 0.2890 - acc: 0.8941\n",
      "Epoch 14/100\n",
      "193/193 [==============================] - 35s 180ms/step - loss: 0.2676 - acc: 0.9003\n",
      "Epoch 15/100\n",
      "193/193 [==============================] - 35s 180ms/step - loss: 0.2668 - acc: 0.9001\n",
      "Epoch 16/100\n",
      "193/193 [==============================] - 35s 180ms/step - loss: 0.2782 - acc: 0.9018\n",
      "Epoch 17/100\n",
      "193/193 [==============================] - 35s 180ms/step - loss: 0.2548 - acc: 0.9023\n",
      "Epoch 18/100\n",
      "193/193 [==============================] - 35s 180ms/step - loss: 0.2410 - acc: 0.9114\n",
      "Epoch 19/100\n",
      "193/193 [==============================] - 35s 180ms/step - loss: 0.2380 - acc: 0.9100\n",
      "Epoch 20/100\n",
      "193/193 [==============================] - 35s 180ms/step - loss: 0.2393 - acc: 0.9100\n",
      "Epoch 21/100\n",
      "193/193 [==============================] - 35s 180ms/step - loss: 0.2346 - acc: 0.91021s - loss: 0.2322 - \n",
      "Epoch 22/100\n",
      "193/193 [==============================] - 35s 180ms/step - loss: 0.2194 - acc: 0.9186\n",
      "Epoch 23/100\n",
      "193/193 [==============================] - 35s 180ms/step - loss: 0.2563 - acc: 0.9022\n",
      "Epoch 24/100\n",
      "193/193 [==============================] - 35s 180ms/step - loss: 0.2287 - acc: 0.9159\n",
      "Epoch 25/100\n",
      "193/193 [==============================] - 35s 180ms/step - loss: 0.2224 - acc: 0.9149\n",
      "Epoch 26/100\n",
      "193/193 [==============================] - 35s 180ms/step - loss: 0.2147 - acc: 0.9180\n",
      "Epoch 27/100\n",
      "193/193 [==============================] - 35s 180ms/step - loss: 0.2136 - acc: 0.9187\n",
      "Epoch 28/100\n",
      "193/193 [==============================] - 35s 180ms/step - loss: 0.2086 - acc: 0.9203\n",
      "Epoch 29/100\n",
      "193/193 [==============================] - 35s 180ms/step - loss: 0.2001 - acc: 0.9244\n",
      "Epoch 30/100\n",
      "193/193 [==============================] - 35s 180ms/step - loss: 0.1918 - acc: 0.9296\n",
      "Epoch 31/100\n",
      "193/193 [==============================] - 35s 180ms/step - loss: 0.1895 - acc: 0.9271\n",
      "Epoch 32/100\n",
      "193/193 [==============================] - 35s 180ms/step - loss: 0.1914 - acc: 0.9278\n",
      "Epoch 33/100\n",
      "193/193 [==============================] - 35s 180ms/step - loss: 0.1875 - acc: 0.92720s - loss: 0.1871 - acc: 0.92\n",
      "Epoch 34/100\n",
      "193/193 [==============================] - 35s 180ms/step - loss: 0.1858 - acc: 0.9279\n",
      "Epoch 35/100\n",
      "193/193 [==============================] - 35s 180ms/step - loss: 0.1795 - acc: 0.9320\n",
      "Epoch 36/100\n",
      "193/193 [==============================] - 35s 180ms/step - loss: 0.1798 - acc: 0.9309\n",
      "Epoch 37/100\n",
      "193/193 [==============================] - 35s 180ms/step - loss: 0.1775 - acc: 0.9303\n",
      "Epoch 38/100\n",
      "193/193 [==============================] - 35s 180ms/step - loss: 0.1694 - acc: 0.93684s -\n",
      "Epoch 39/100\n",
      "193/193 [==============================] - 35s 180ms/step - loss: 0.1729 - acc: 0.93580s - loss: 0.1732 - acc: 0.93\n",
      "Epoch 40/100\n",
      "193/193 [==============================] - 35s 180ms/step - loss: 0.1758 - acc: 0.9331\n",
      "Epoch 41/100\n",
      "193/193 [==============================] - 35s 180ms/step - loss: 0.1619 - acc: 0.9377\n",
      "Epoch 42/100\n",
      "193/193 [==============================] - 35s 180ms/step - loss: 0.1613 - acc: 0.93883s - loss\n",
      "Epoch 43/100\n",
      "193/193 [==============================] - 35s 180ms/step - loss: 0.1635 - acc: 0.9386\n",
      "Epoch 44/100\n",
      "193/193 [==============================] - 35s 180ms/step - loss: 0.1681 - acc: 0.9382\n",
      "Epoch 45/100\n",
      "193/193 [==============================] - 35s 180ms/step - loss: 0.1549 - acc: 0.9413\n",
      "Epoch 46/100\n",
      "193/193 [==============================] - 35s 180ms/step - loss: 0.1571 - acc: 0.9402\n",
      "Epoch 47/100\n",
      "193/193 [==============================] - 35s 180ms/step - loss: 0.1592 - acc: 0.9393\n",
      "Epoch 48/100\n",
      "193/193 [==============================] - 35s 180ms/step - loss: 0.1547 - acc: 0.9428\n",
      "Epoch 49/100\n",
      "193/193 [==============================] - 35s 180ms/step - loss: 0.1543 - acc: 0.9421\n",
      "Epoch 50/100\n",
      "193/193 [==============================] - 35s 180ms/step - loss: 0.1450 - acc: 0.9436\n",
      "Epoch 51/100\n",
      "193/193 [==============================] - 35s 180ms/step - loss: 0.1504 - acc: 0.9428\n",
      "Epoch 52/100\n",
      "193/193 [==============================] - 35s 180ms/step - loss: 0.1420 - acc: 0.9455\n",
      "Epoch 53/100\n",
      "193/193 [==============================] - 35s 180ms/step - loss: 0.1429 - acc: 0.94691s - loss: 0.1429 - \n",
      "Epoch 54/100\n",
      "193/193 [==============================] - 35s 180ms/step - loss: 0.1388 - acc: 0.9485\n",
      "Epoch 55/100\n",
      "193/193 [==============================] - 35s 180ms/step - loss: 0.1380 - acc: 0.9479\n",
      "Epoch 56/100\n",
      "193/193 [==============================] - 35s 180ms/step - loss: 0.1411 - acc: 0.9451\n",
      "Epoch 57/100\n",
      "193/193 [==============================] - 35s 180ms/step - loss: 0.1396 - acc: 0.9463\n",
      "Epoch 58/100\n",
      "193/193 [==============================] - 35s 180ms/step - loss: 0.1322 - acc: 0.9504\n",
      "Epoch 59/100\n",
      "193/193 [==============================] - 35s 180ms/step - loss: 0.1281 - acc: 0.9519\n",
      "Epoch 60/100\n",
      "193/193 [==============================] - 35s 180ms/step - loss: 0.1290 - acc: 0.9533\n",
      "Epoch 61/100\n",
      "193/193 [==============================] - 35s 180ms/step - loss: 0.1247 - acc: 0.9539\n",
      "Epoch 62/100\n",
      "193/193 [==============================] - 35s 180ms/step - loss: 0.1292 - acc: 0.9507\n",
      "Epoch 63/100\n",
      "193/193 [==============================] - 35s 180ms/step - loss: 0.1297 - acc: 0.9526\n",
      "Epoch 64/100\n",
      "193/193 [==============================] - 35s 180ms/step - loss: 0.1268 - acc: 0.9513\n",
      "Epoch 65/100\n",
      "193/193 [==============================] - 35s 180ms/step - loss: 0.1248 - acc: 0.9509\n",
      "Epoch 66/100\n",
      "193/193 [==============================] - 35s 180ms/step - loss: 0.1192 - acc: 0.95372s - loss: 0.1206\n",
      "Epoch 67/100\n",
      "193/193 [==============================] - 35s 180ms/step - loss: 0.1257 - acc: 0.9509\n",
      "Epoch 68/100\n",
      "193/193 [==============================] - 35s 180ms/step - loss: 0.1283 - acc: 0.9513\n",
      "Epoch 69/100\n",
      "193/193 [==============================] - 35s 180ms/step - loss: 0.1215 - acc: 0.9535\n",
      "Epoch 70/100\n",
      "193/193 [==============================] - 35s 180ms/step - loss: 0.1235 - acc: 0.9531\n",
      "Epoch 71/100\n",
      "193/193 [==============================] - 35s 180ms/step - loss: 0.1206 - acc: 0.95472s - loss: 0.1195 \n",
      "Epoch 72/100\n",
      "193/193 [==============================] - 35s 180ms/step - loss: 0.1192 - acc: 0.9566\n",
      "Epoch 73/100\n",
      "193/193 [==============================] - 35s 181ms/step - loss: 0.1122 - acc: 0.9560\n",
      "Epoch 74/100\n",
      "193/193 [==============================] - 35s 181ms/step - loss: 0.1026 - acc: 0.9632\n",
      "Epoch 75/100\n",
      "193/193 [==============================] - 35s 180ms/step - loss: 0.1203 - acc: 0.9541\n",
      "Epoch 76/100\n",
      "193/193 [==============================] - 35s 180ms/step - loss: 0.1165 - acc: 0.9563\n",
      "Epoch 77/100\n",
      "193/193 [==============================] - 35s 181ms/step - loss: 0.1065 - acc: 0.9581\n",
      "Epoch 78/100\n",
      "193/193 [==============================] - 35s 180ms/step - loss: 0.1089 - acc: 0.9593\n",
      "Epoch 79/100\n",
      "193/193 [==============================] - 35s 180ms/step - loss: 0.1119 - acc: 0.9566\n",
      "Epoch 80/100\n",
      "193/193 [==============================] - 35s 179ms/step - loss: 0.1094 - acc: 0.9586\n",
      "Epoch 81/100\n",
      "193/193 [==============================] - 35s 179ms/step - loss: 0.1014 - acc: 0.9620\n",
      "Epoch 82/100\n",
      "193/193 [==============================] - 35s 180ms/step - loss: 0.1107 - acc: 0.9597\n",
      "Epoch 83/100\n",
      "193/193 [==============================] - 35s 180ms/step - loss: 0.0972 - acc: 0.9627\n",
      "Epoch 84/100\n",
      "193/193 [==============================] - 35s 180ms/step - loss: 0.1054 - acc: 0.9602\n",
      "Epoch 85/100\n",
      "193/193 [==============================] - 35s 180ms/step - loss: 0.1083 - acc: 0.9609\n",
      "Epoch 86/100\n",
      "193/193 [==============================] - 35s 180ms/step - loss: 0.1032 - acc: 0.9607\n",
      "Epoch 87/100\n",
      "193/193 [==============================] - 35s 180ms/step - loss: 0.0969 - acc: 0.9636\n",
      "Epoch 88/100\n",
      "193/193 [==============================] - 35s 180ms/step - loss: 0.1119 - acc: 0.9587A: 2s - loss: 0.111\n",
      "Epoch 89/100\n",
      "193/193 [==============================] - 35s 180ms/step - loss: 0.1138 - acc: 0.9570\n",
      "Epoch 90/100\n",
      "193/193 [==============================] - 35s 180ms/step - loss: 0.0978 - acc: 0.9651\n",
      "Epoch 91/100\n",
      "193/193 [==============================] - 35s 180ms/step - loss: 0.0931 - acc: 0.9650\n",
      "Epoch 92/100\n",
      "193/193 [==============================] - 35s 180ms/step - loss: 0.1004 - acc: 0.9622\n",
      "Epoch 93/100\n",
      "193/193 [==============================] - 35s 180ms/step - loss: 0.1031 - acc: 0.9622\n",
      "Epoch 94/100\n",
      "193/193 [==============================] - 35s 180ms/step - loss: 0.0908 - acc: 0.9661\n",
      "Epoch 95/100\n",
      "193/193 [==============================] - 35s 180ms/step - loss: 0.0921 - acc: 0.9641\n",
      "Epoch 96/100\n",
      "193/193 [==============================] - 35s 180ms/step - loss: 0.0954 - acc: 0.9653\n",
      "Epoch 97/100\n",
      "193/193 [==============================] - 35s 180ms/step - loss: 0.0891 - acc: 0.9671\n",
      "Epoch 98/100\n",
      "193/193 [==============================] - 35s 180ms/step - loss: 0.0880 - acc: 0.9670\n",
      "Epoch 99/100\n",
      "193/193 [==============================] - 35s 180ms/step - loss: 0.0964 - acc: 0.9635\n",
      "Epoch 100/100\n",
      "193/193 [==============================] - 35s 180ms/step - loss: 0.0886 - acc: 0.9685\n"
     ]
    },
    {
     "data": {
      "text/plain": [
       "[<matplotlib.lines.Line2D at 0x1ecf51a68d0>]"
      ]
     },
     "execution_count": 12,
     "metadata": {},
     "output_type": "execute_result"
    },
    {
     "data": {
      "image/png": "[encoded data removed]",
      "text/plain": [
       "<Figure size 432x288 with 1 Axes>"
      ]
     },
     "metadata": {},
     "output_type": "display_data"
    }
   ],
   "source": [
    "history=model.fit_generator(generator=train_gen,epochs=10,max_queue_size=4)#,callbacks=[ckpoint])\n",
    "#ploting the acc\n",
    "acc.extend(history.history['acc'])\n",
    "plt.plot(acc)"
   ]
  },
  {
   "cell_type": "code",
   "execution_count": 21,
   "metadata": {},
   "outputs": [
    {
     "data": {
      "text/plain": [
       "[0.6151517676209951, 0.8692476263091545]"
      ]
     },
     "execution_count": 21,
     "metadata": {},
     "output_type": "execute_result"
    }
   ],
   "source": [
    "model.evaluate_generator(generator=test_gen,max_queue_size=4)"
   ]
  },
  {
   "cell_type": "code",
   "execution_count": 22,
   "metadata": {},
   "outputs": [],
   "source": [
    "model.save(\"./model/facial_model_overfit.hdf5\")"
   ]
  },
  {
   "cell_type": "markdown",
   "metadata": {},
   "source": [
    "# Loading the saved model"
   ]
  },
  {
   "cell_type": "code",
   "execution_count": null,
   "metadata": {},
   "outputs": [],
   "source": [
    "del(model)"
   ]
  },
  {
   "cell_type": "code",
   "execution_count": 25,
   "metadata": {},
   "outputs": [],
   "source": [
    "model=keras.models.load_model(\"./model/facial_model_overfit.hdf5\")"
   ]
  },
  {
   "cell_type": "code",
   "execution_count": 30,
   "metadata": {},
   "outputs": [
    {
     "data": {
      "text/plain": [
       "[0.6384460984016963, 0.8597516438401991]"
      ]
     },
     "execution_count": 30,
     "metadata": {},
     "output_type": "execute_result"
    }
   ],
   "source": [
    "model.evaluate_generator(generator=test_gen,max_queue_size=4)"
   ]
  },
  {
   "cell_type": "code",
   "execution_count": null,
   "metadata": {},
   "outputs": [],
   "source": []
  }
 ],
 "metadata": {
  "kernelspec": {
   "display_name": "Python 3",
   "language": "python",
   "name": "python3"
  },
  "language_info": {
   "codemirror_mode": {
    "name": "ipython",
    "version": 3
   },
   "file_extension": ".py",
   "mimetype": "text/x-python",
   "name": "python",
   "nbconvert_exporter": "python",
   "pygments_lexer": "ipython3",
   "version": "3.7.1"
  }
 },
 "nbformat": 4,
 "nbformat_minor": 2
}
